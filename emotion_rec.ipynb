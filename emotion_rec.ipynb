{
 "cells": [
  {
   "cell_type": "code",
   "execution_count": 1,
   "metadata": {},
   "outputs": [],
   "source": [
    "import tensorflow as tf\n",
    "from tensorflow import keras\n",
    "from tensorflow.python.keras.models import Sequential\n",
    "from tensorflow.python.keras.layers import Conv2D\n",
    "from tensorflow.python.keras.layers import MaxPooling2D\n",
    "from tensorflow.python.keras.layers import Flatten\n",
    "from tensorflow.python.keras.layers import Dense,Dropout\n",
    "from tensorflow.python.keras.metrics import categorical_crossentropy\n",
    "from tensorflow.python.keras import backend as K\n",
    "from tensorflow.python.keras.callbacks import ModelCheckpoint,EarlyStopping\n",
    "from tensorflow.python.keras.preprocessing.image import ImageDataGenerator\n",
    "import split_folders"
   ]
  },
  {
   "cell_type": "code",
   "execution_count": 2,
   "metadata": {},
   "outputs": [
    {
     "name": "stdout",
     "output_type": "stream",
     "text": [
      "WARNING:tensorflow:From C:\\Users\\ssuresh\\AppData\\Local\\Continuum\\anaconda3\\lib\\site-packages\\tensorflow\\python\\ops\\resource_variable_ops.py:435: colocate_with (from tensorflow.python.framework.ops) is deprecated and will be removed in a future version.\n",
      "Instructions for updating:\n",
      "Colocations handled automatically by placer.\n",
      "WARNING:tensorflow:From C:\\Users\\ssuresh\\AppData\\Local\\Continuum\\anaconda3\\lib\\site-packages\\tensorflow\\python\\keras\\layers\\core.py:143: calling dropout (from tensorflow.python.ops.nn_ops) with keep_prob is deprecated and will be removed in a future version.\n",
      "Instructions for updating:\n",
      "Please use `rate` instead of `keep_prob`. Rate should be set to `rate = 1 - keep_prob`.\n",
      "_________________________________________________________________\n",
      "Layer (type)                 Output Shape              Param #   \n",
      "=================================================================\n",
      "conv2d (Conv2D)              (None, 62, 62, 32)        896       \n",
      "_________________________________________________________________\n",
      "max_pooling2d (MaxPooling2D) (None, 31, 31, 32)        0         \n",
      "_________________________________________________________________\n",
      "dropout (Dropout)            (None, 31, 31, 32)        0         \n",
      "_________________________________________________________________\n",
      "conv2d_1 (Conv2D)            (None, 29, 29, 32)        9248      \n",
      "_________________________________________________________________\n",
      "max_pooling2d_1 (MaxPooling2 (None, 14, 14, 32)        0         \n",
      "_________________________________________________________________\n",
      "dropout_1 (Dropout)          (None, 14, 14, 32)        0         \n",
      "_________________________________________________________________\n",
      "flatten (Flatten)            (None, 6272)              0         \n",
      "_________________________________________________________________\n",
      "dense (Dense)                (None, 256)               1605888   \n",
      "_________________________________________________________________\n",
      "dense_1 (Dense)              (None, 3)                 771       \n",
      "=================================================================\n",
      "Total params: 1,616,803\n",
      "Trainable params: 1,616,803\n",
      "Non-trainable params: 0\n",
      "_________________________________________________________________\n"
     ]
    }
   ],
   "source": [
    "classifier = Sequential()\n",
    "classifier.add(Conv2D(32, (3, 3), input_shape = (64, 64, 3), activation = 'relu'))\n",
    "classifier.add(MaxPooling2D(pool_size = (2,2)))\n",
    "classifier.add(Dropout(0.2))\n",
    "classifier.add(Conv2D(32, (3, 3), activation = 'relu'))\n",
    "classifier.add(MaxPooling2D(pool_size = (2,2)))\n",
    "classifier.add(Dropout(0.2))\n",
    "classifier.add(Flatten())\n",
    "classifier.add(Dense(units = 256, activation = 'relu'))\n",
    "classifier.add(Dense(units = 3, activation = 'softmax'))\n",
    "classifier.summary()"
   ]
  },
  {
   "cell_type": "code",
   "execution_count": 3,
   "metadata": {},
   "outputs": [],
   "source": [
    "classifier.compile(optimizer = 'adam', loss = 'categorical_crossentropy', metrics = ['accuracy'])"
   ]
  },
  {
   "cell_type": "code",
   "execution_count": 4,
   "metadata": {},
   "outputs": [],
   "source": [
    "filepath = 'weights_adam1.hdf5'\n",
    "# acc_check = ModelCheckpoint(filepath, monitor='val_loss', verbose=1, save_best_only=False, save_weights_only=False, mode='auto', period=1)\n",
    "# stop_check = EarlyStopping(monitor='val_loss', min_delta=0, patience=20, verbose=1, mode='max')\n",
    "# callbacks_list = [acc_check,stop_check]"
   ]
  },
  {
   "cell_type": "code",
   "execution_count": 5,
   "metadata": {},
   "outputs": [
    {
     "name": "stdout",
     "output_type": "stream",
     "text": [
      "Found 354 images belonging to 3 classes.\n"
     ]
    }
   ],
   "source": [
    "train_datagen = ImageDataGenerator(rescale = 1./255,\n",
    "shear_range = 0.2,\n",
    "zoom_range = 0.2,\n",
    "horizontal_flip = True)\n",
    "\n",
    "\n",
    "training_set = train_datagen.flow_from_directory('dataset',\n",
    "target_size = (64, 64),\n",
    "batch_size = 1,\n",
    "color_mode = 'rgb',                                                 \n",
    "class_mode = 'categorical')\n"
   ]
  },
  {
   "cell_type": "code",
   "execution_count": 7,
   "metadata": {},
   "outputs": [],
   "source": [
    "split_folders.ratio('dataset', output=\"splited_data\", seed=1337, ratio=(.8, .1, .1))"
   ]
  },
  {
   "cell_type": "code",
   "execution_count": 8,
   "metadata": {},
   "outputs": [],
   "source": [
    "img_rows , img_cols = 64,64\n",
    "classes = 3\n",
    "batch_size = 1"
   ]
  },
  {
   "cell_type": "code",
   "execution_count": 9,
   "metadata": {},
   "outputs": [
    {
     "name": "stdout",
     "output_type": "stream",
     "text": [
      "Found 282 images belonging to 3 classes.\n"
     ]
    }
   ],
   "source": [
    "training_set = train_datagen.flow_from_directory(\n",
    "            'splited_data/train', \n",
    "            target_size=(img_rows, img_cols),\n",
    "            batch_size=batch_size,\n",
    "            class_mode='categorical')"
   ]
  },
  {
   "cell_type": "code",
   "execution_count": 10,
   "metadata": {},
   "outputs": [
    {
     "name": "stdout",
     "output_type": "stream",
     "text": [
      "Found 33 images belonging to 3 classes.\n"
     ]
    }
   ],
   "source": [
    "validation_set = train_datagen.flow_from_directory(\n",
    "            'splited_data/val',\n",
    "            target_size=(img_rows, img_cols),\n",
    "            batch_size=batch_size,\n",
    "            class_mode='categorical')"
   ]
  },
  {
   "cell_type": "code",
   "execution_count": 68,
   "metadata": {
    "scrolled": true
   },
   "outputs": [
    {
     "name": "stdout",
     "output_type": "stream",
     "text": [
      "Epoch 1/50\n",
      "33/33 [==============================] - 0s 8ms/step - loss: 0.3678 - acc: 0.8788\n",
      "282/282 [==============================] - 11s 41ms/step - loss: 0.4497 - acc: 0.8156 - val_loss: 0.3678 - val_acc: 0.8788\n",
      "Epoch 2/50\n",
      "33/33 [==============================] - 0s 9ms/step - loss: 0.3756 - acc: 0.8485\n",
      "282/282 [==============================] - 11s 39ms/step - loss: 0.4743 - acc: 0.8191 - val_loss: 0.3756 - val_acc: 0.8485\n",
      "Epoch 3/50\n",
      "33/33 [==============================] - 0s 9ms/step - loss: 0.5126 - acc: 0.7879\n",
      "282/282 [==============================] - 11s 39ms/step - loss: 0.3899 - acc: 0.8191 - val_loss: 0.5126 - val_acc: 0.7879\n",
      "Epoch 4/50\n",
      "33/33 [==============================] - 0s 8ms/step - loss: 0.2380 - acc: 0.8788\n",
      "282/282 [==============================] - 11s 39ms/step - loss: 0.4245 - acc: 0.8404 - val_loss: 0.2380 - val_acc: 0.8788\n",
      "Epoch 5/50\n",
      "33/33 [==============================] - 0s 8ms/step - loss: 0.3500 - acc: 0.8788\n",
      "282/282 [==============================] - 11s 41ms/step - loss: 0.4105 - acc: 0.8262 - val_loss: 0.3500 - val_acc: 0.8788\n",
      "Epoch 6/50\n",
      "33/33 [==============================] - 0s 8ms/step - loss: 0.3542 - acc: 0.8182\n",
      "282/282 [==============================] - 11s 39ms/step - loss: 0.4467 - acc: 0.8191 - val_loss: 0.3542 - val_acc: 0.8182\n",
      "Epoch 7/50\n",
      "33/33 [==============================] - 0s 8ms/step - loss: 0.3642 - acc: 0.8485\n",
      "282/282 [==============================] - 11s 39ms/step - loss: 0.3499 - acc: 0.8369 - val_loss: 0.3642 - val_acc: 0.8485\n",
      "Epoch 8/50\n",
      "33/33 [==============================] - 0s 9ms/step - loss: 0.3826 - acc: 0.8182\n",
      "282/282 [==============================] - 11s 39ms/step - loss: 0.3265 - acc: 0.8582 - val_loss: 0.3826 - val_acc: 0.8182\n",
      "Epoch 9/50\n",
      "33/33 [==============================] - 0s 9ms/step - loss: 0.3290 - acc: 0.8485\n",
      "282/282 [==============================] - 11s 40ms/step - loss: 0.3591 - acc: 0.8404 - val_loss: 0.3290 - val_acc: 0.8485\n",
      "Epoch 10/50\n",
      "33/33 [==============================] - 0s 8ms/step - loss: 0.3441 - acc: 0.8788\n",
      "282/282 [==============================] - 11s 38ms/step - loss: 0.3783 - acc: 0.8617 - val_loss: 0.3441 - val_acc: 0.8788\n",
      "Epoch 11/50\n",
      "33/33 [==============================] - 0s 8ms/step - loss: 0.3893 - acc: 0.8182\n",
      "282/282 [==============================] - 11s 38ms/step - loss: 0.3744 - acc: 0.8404 - val_loss: 0.3893 - val_acc: 0.8182\n",
      "Epoch 12/50\n",
      "33/33 [==============================] - 0s 9ms/step - loss: 0.3610 - acc: 0.8485\n",
      "282/282 [==============================] - 11s 39ms/step - loss: 0.2909 - acc: 0.8652 - val_loss: 0.3610 - val_acc: 0.8485\n",
      "Epoch 13/50\n",
      "33/33 [==============================] - 0s 9ms/step - loss: 0.3817 - acc: 0.8788\n",
      "282/282 [==============================] - 10s 37ms/step - loss: 0.3485 - acc: 0.8688 - val_loss: 0.3817 - val_acc: 0.8788\n",
      "Epoch 14/50\n",
      "33/33 [==============================] - 0s 8ms/step - loss: 0.3563 - acc: 0.9091\n",
      "282/282 [==============================] - 11s 38ms/step - loss: 0.3306 - acc: 0.8936 - val_loss: 0.3563 - val_acc: 0.9091\n",
      "Epoch 15/50\n",
      "33/33 [==============================] - 0s 8ms/step - loss: 0.3329 - acc: 0.8485\n",
      "282/282 [==============================] - 11s 38ms/step - loss: 0.2844 - acc: 0.8830 - val_loss: 0.3329 - val_acc: 0.8485\n",
      "Epoch 16/50\n",
      "33/33 [==============================] - 0s 8ms/step - loss: 0.4728 - acc: 0.8788\n",
      "282/282 [==============================] - 10s 37ms/step - loss: 0.2728 - acc: 0.9078 - val_loss: 0.4728 - val_acc: 0.8788\n",
      "Epoch 17/50\n",
      "33/33 [==============================] - 0s 9ms/step - loss: 0.2932 - acc: 0.8788\n",
      "282/282 [==============================] - 11s 38ms/step - loss: 0.2833 - acc: 0.8865 - val_loss: 0.2932 - val_acc: 0.8788\n",
      "Epoch 18/50\n",
      "33/33 [==============================] - 0s 9ms/step - loss: 0.2039 - acc: 0.8788\n",
      "282/282 [==============================] - 11s 38ms/step - loss: 0.2754 - acc: 0.8936 - val_loss: 0.2039 - val_acc: 0.8788\n",
      "Epoch 19/50\n",
      "33/33 [==============================] - 0s 8ms/step - loss: 0.3196 - acc: 0.8788\n",
      "282/282 [==============================] - 10s 37ms/step - loss: 0.3003 - acc: 0.8972 - val_loss: 0.3196 - val_acc: 0.8788\n",
      "Epoch 20/50\n",
      "33/33 [==============================] - 0s 8ms/step - loss: 0.2696 - acc: 0.9091\n",
      "282/282 [==============================] - 11s 38ms/step - loss: 0.2588 - acc: 0.8936 - val_loss: 0.2696 - val_acc: 0.9091\n",
      "Epoch 21/50\n",
      "33/33 [==============================] - 0s 9ms/step - loss: 0.3954 - acc: 0.8182\n",
      "282/282 [==============================] - 11s 38ms/step - loss: 0.2707 - acc: 0.8830 - val_loss: 0.3954 - val_acc: 0.8182\n",
      "Epoch 22/50\n",
      "33/33 [==============================] - 0s 8ms/step - loss: 0.1934 - acc: 0.9394\n",
      "282/282 [==============================] - 11s 38ms/step - loss: 0.2644 - acc: 0.8936 - val_loss: 0.1934 - val_acc: 0.9394\n",
      "Epoch 23/50\n",
      "33/33 [==============================] - 0s 8ms/step - loss: 0.3427 - acc: 0.8485\n",
      "282/282 [==============================] - 11s 38ms/step - loss: 0.2564 - acc: 0.9149 - val_loss: 0.3427 - val_acc: 0.8485\n",
      "Epoch 24/50\n",
      "33/33 [==============================] - 0s 9ms/step - loss: 0.4079 - acc: 0.8485\n",
      "282/282 [==============================] - 11s 38ms/step - loss: 0.2752 - acc: 0.9043 - val_loss: 0.4079 - val_acc: 0.8485\n",
      "Epoch 25/50\n",
      "33/33 [==============================] - 0s 8ms/step - loss: 0.2604 - acc: 0.9394\n",
      "282/282 [==============================] - 11s 37ms/step - loss: 0.2889 - acc: 0.8936 - val_loss: 0.2604 - val_acc: 0.9394\n",
      "Epoch 26/50\n",
      "33/33 [==============================] - 0s 9ms/step - loss: 0.3475 - acc: 0.8788\n",
      "282/282 [==============================] - 11s 37ms/step - loss: 0.2790 - acc: 0.8972 - val_loss: 0.3475 - val_acc: 0.8788\n",
      "Epoch 27/50\n",
      "33/33 [==============================] - 0s 9ms/step - loss: 0.2263 - acc: 0.8788\n",
      "282/282 [==============================] - 11s 39ms/step - loss: 0.2872 - acc: 0.8972 - val_loss: 0.2263 - val_acc: 0.8788\n",
      "Epoch 28/50\n",
      "33/33 [==============================] - 0s 9ms/step - loss: 0.3645 - acc: 0.8788\n",
      "282/282 [==============================] - 11s 38ms/step - loss: 0.2036 - acc: 0.9184 - val_loss: 0.3645 - val_acc: 0.8788\n",
      "Epoch 29/50\n",
      "33/33 [==============================] - 0s 10ms/step - loss: 0.1449 - acc: 0.9091\n",
      "282/282 [==============================] - 11s 39ms/step - loss: 0.1964 - acc: 0.9043 - val_loss: 0.1449 - val_acc: 0.9091\n",
      "Epoch 30/50\n",
      "33/33 [==============================] - 0s 9ms/step - loss: 0.3006 - acc: 0.8485\n",
      "282/282 [==============================] - 11s 40ms/step - loss: 0.1933 - acc: 0.9184 - val_loss: 0.3006 - val_acc: 0.8485\n",
      "Epoch 31/50\n",
      "33/33 [==============================] - 0s 8ms/step - loss: 0.2645 - acc: 0.8485\n",
      "282/282 [==============================] - 11s 39ms/step - loss: 0.2264 - acc: 0.9255 - val_loss: 0.2645 - val_acc: 0.8485\n",
      "Epoch 32/50\n",
      "33/33 [==============================] - 0s 8ms/step - loss: 0.4974 - acc: 0.9394\n",
      "282/282 [==============================] - 11s 39ms/step - loss: 0.2648 - acc: 0.9113 - val_loss: 0.4974 - val_acc: 0.9394\n",
      "Epoch 33/50\n",
      "33/33 [==============================] - 0s 9ms/step - loss: 0.2775 - acc: 0.8485\n",
      "282/282 [==============================] - 11s 39ms/step - loss: 0.2288 - acc: 0.9113 - val_loss: 0.2775 - val_acc: 0.8485\n",
      "Epoch 34/50\n",
      "33/33 [==============================] - 0s 9ms/step - loss: 0.1595 - acc: 0.9394\n",
      "282/282 [==============================] - 11s 39ms/step - loss: 0.2093 - acc: 0.9326 - val_loss: 0.1595 - val_acc: 0.9394\n",
      "Epoch 35/50\n",
      "33/33 [==============================] - 0s 10ms/step - loss: 0.2882 - acc: 0.8788\n",
      "282/282 [==============================] - 12s 41ms/step - loss: 0.2273 - acc: 0.9007 - val_loss: 0.2882 - val_acc: 0.8788\n",
      "Epoch 36/50\n",
      "33/33 [==============================] - 0s 9ms/step - loss: 0.1827 - acc: 0.9091\n",
      "282/282 [==============================] - 12s 43ms/step - loss: 0.2126 - acc: 0.9255 - val_loss: 0.1827 - val_acc: 0.9091\n",
      "Epoch 37/50\n",
      "33/33 [==============================] - 0s 9ms/step - loss: 0.1103 - acc: 0.9697\n",
      "282/282 [==============================] - 12s 43ms/step - loss: 0.2224 - acc: 0.9043 - val_loss: 0.1103 - val_acc: 0.9697\n",
      "Epoch 38/50\n",
      "33/33 [==============================] - 0s 9ms/step - loss: 0.2790 - acc: 0.9091\n",
      "282/282 [==============================] - 11s 39ms/step - loss: 0.2389 - acc: 0.9043 - val_loss: 0.2790 - val_acc: 0.9091\n"
     ]
    },
    {
     "name": "stdout",
     "output_type": "stream",
     "text": [
      "Epoch 39/50\n",
      "33/33 [==============================] - 0s 8ms/step - loss: 0.0893 - acc: 0.9697\n",
      "282/282 [==============================] - 11s 39ms/step - loss: 0.2076 - acc: 0.9078 - val_loss: 0.0893 - val_acc: 0.9697\n",
      "Epoch 40/50\n",
      "33/33 [==============================] - 0s 10ms/step - loss: 0.2121 - acc: 0.8788\n",
      "282/282 [==============================] - 12s 41ms/step - loss: 0.1918 - acc: 0.9255 - val_loss: 0.2121 - val_acc: 0.8788\n",
      "Epoch 41/50\n",
      "33/33 [==============================] - 0s 8ms/step - loss: 0.1865 - acc: 0.8788\n",
      "282/282 [==============================] - 11s 40ms/step - loss: 0.3026 - acc: 0.8652 - val_loss: 0.1865 - val_acc: 0.8788\n",
      "Epoch 42/50\n",
      "33/33 [==============================] - 0s 8ms/step - loss: 0.1697 - acc: 0.9394\n",
      "282/282 [==============================] - 11s 39ms/step - loss: 0.2811 - acc: 0.8830 - val_loss: 0.1697 - val_acc: 0.9394\n",
      "Epoch 43/50\n",
      "33/33 [==============================] - 0s 9ms/step - loss: 0.1248 - acc: 0.9394\n",
      "282/282 [==============================] - 11s 39ms/step - loss: 0.2018 - acc: 0.9184 - val_loss: 0.1248 - val_acc: 0.9394\n",
      "Epoch 44/50\n",
      "33/33 [==============================] - 0s 9ms/step - loss: 0.1420 - acc: 0.9697\n",
      "282/282 [==============================] - 11s 39ms/step - loss: 0.1453 - acc: 0.9539 - val_loss: 0.1420 - val_acc: 0.9697\n",
      "Epoch 45/50\n",
      "33/33 [==============================] - 0s 9ms/step - loss: 0.1737 - acc: 0.9091\n",
      "282/282 [==============================] - 11s 39ms/step - loss: 0.1952 - acc: 0.9397 - val_loss: 0.1737 - val_acc: 0.9091\n",
      "Epoch 46/50\n",
      "33/33 [==============================] - 0s 8ms/step - loss: 0.1292 - acc: 0.9394\n",
      "282/282 [==============================] - 11s 39ms/step - loss: 0.1610 - acc: 0.9326 - val_loss: 0.1292 - val_acc: 0.9394\n",
      "Epoch 47/50\n",
      "33/33 [==============================] - 0s 9ms/step - loss: 0.1817 - acc: 0.9394\n",
      "282/282 [==============================] - 11s 40ms/step - loss: 0.2353 - acc: 0.9149 - val_loss: 0.1817 - val_acc: 0.9394\n",
      "Epoch 48/50\n",
      "33/33 [==============================] - 0s 9ms/step - loss: 0.0815 - acc: 0.9697\n",
      "282/282 [==============================] - 11s 39ms/step - loss: 0.2096 - acc: 0.9468 - val_loss: 0.0815 - val_acc: 0.9697\n",
      "Epoch 49/50\n",
      "33/33 [==============================] - 0s 9ms/step - loss: 0.1856 - acc: 0.9091\n",
      "282/282 [==============================] - 11s 39ms/step - loss: 0.1431 - acc: 0.9397 - val_loss: 0.1856 - val_acc: 0.9091\n",
      "Epoch 50/50\n",
      "33/33 [==============================] - 0s 8ms/step - loss: 0.0627 - acc: 0.9697\n",
      "282/282 [==============================] - 11s 39ms/step - loss: 0.1269 - acc: 0.9539 - val_loss: 0.0627 - val_acc: 0.9697\n"
     ]
    }
   ],
   "source": [
    " history_adam = classifier.fit_generator( training_set,\n",
    "                    steps_per_epoch=354,\n",
    "                    epochs=50,\n",
    "                    validation_data=validation_set,\n",
    "                    validation_steps=150)"
   ]
  },
  {
   "cell_type": "code",
   "execution_count": 69,
   "metadata": {},
   "outputs": [],
   "source": [
    "classifier.save('model_adam1.h5')    "
   ]
  },
  {
   "cell_type": "code",
   "execution_count": 70,
   "metadata": {},
   "outputs": [],
   "source": [
    "from tensorflow.python.keras.models import load_model\n",
    "new_classifier = load_model('model_adam1.h5')"
   ]
  },
  {
   "cell_type": "code",
   "execution_count": 71,
   "metadata": {},
   "outputs": [
    {
     "name": "stdout",
     "output_type": "stream",
     "text": [
      "_________________________________________________________________\n",
      "Layer (type)                 Output Shape              Param #   \n",
      "=================================================================\n",
      "conv2d (Conv2D)              (None, 62, 62, 32)        896       \n",
      "_________________________________________________________________\n",
      "max_pooling2d (MaxPooling2D) (None, 31, 31, 32)        0         \n",
      "_________________________________________________________________\n",
      "dropout (Dropout)            (None, 31, 31, 32)        0         \n",
      "_________________________________________________________________\n",
      "conv2d_1 (Conv2D)            (None, 29, 29, 32)        9248      \n",
      "_________________________________________________________________\n",
      "max_pooling2d_1 (MaxPooling2 (None, 14, 14, 32)        0         \n",
      "_________________________________________________________________\n",
      "dropout_1 (Dropout)          (None, 14, 14, 32)        0         \n",
      "_________________________________________________________________\n",
      "flatten (Flatten)            (None, 6272)              0         \n",
      "_________________________________________________________________\n",
      "dense (Dense)                (None, 256)               1605888   \n",
      "_________________________________________________________________\n",
      "dense_1 (Dense)              (None, 3)                 771       \n",
      "=================================================================\n",
      "Total params: 1,616,803\n",
      "Trainable params: 1,616,803\n",
      "Non-trainable params: 0\n",
      "_________________________________________________________________\n"
     ]
    }
   ],
   "source": [
    "new_classifier.summary()"
   ]
  },
  {
   "cell_type": "code",
   "execution_count": 72,
   "metadata": {},
   "outputs": [
    {
     "data": {
      "text/plain": [
       "<matplotlib.image.AxesImage at 0x22994b11cc0>"
      ]
     },
     "execution_count": 72,
     "metadata": {},
     "output_type": "execute_result"
    },
    {
     "data": {
      "image/png": "[encoded data removed]",
      "text/plain": [
       "<Figure size 432x288 with 1 Axes>"
      ]
     },
     "metadata": {
      "needs_background": "light"
     },
     "output_type": "display_data"
    }
   ],
   "source": [
    "import numpy as np\n",
    "from tensorflow.python.keras.preprocessing import image\n",
    "import matplotlib.pyplot as plt\n",
    "\n",
    "test_image = image.load_img('pred/s.png', target_size = (64, 64,1))\n",
    "plt.imshow(test_image)"
   ]
  },
  {
   "cell_type": "code",
   "execution_count": 73,
   "metadata": {},
   "outputs": [
    {
     "name": "stdout",
     "output_type": "stream",
     "text": [
      "[[0. 0. 1.]]\n",
      "[[0. 0. 1.]]\n"
     ]
    }
   ],
   "source": [
    "test_image = image.img_to_array(test_image)\n",
    "test_image = np.expand_dims(test_image, axis = 0)\n",
    "result = classifier.predict(test_image)\n",
    "print(result)\n",
    "result = np.round(result)\n",
    "print(result)"
   ]
  },
  {
   "cell_type": "code",
   "execution_count": 74,
   "metadata": {},
   "outputs": [
    {
     "name": "stdout",
     "output_type": "stream",
     "text": [
      "The gesture shows a surprise\n"
     ]
    }
   ],
   "source": [
    "if result[0][0] == 1:\n",
    "    print('The gesture shows a disgust')\n",
    "elif result[0][1] == 1:\n",
    "    print('The gesture shows a happy')\n",
    "else: \n",
    "    print('The gesture shows a surprise')"
   ]
  },
  {
   "cell_type": "markdown",
   "metadata": {},
   "source": [
    "#### CONFUSION MATRIX"
   ]
  },
  {
   "cell_type": "code",
   "execution_count": 75,
   "metadata": {},
   "outputs": [],
   "source": [
    "import argparse\n",
    "import imutils\n",
    "from tensorflow.python.keras.preprocessing.image import img_to_array\n",
    "from tensorflow.python.keras.utils import to_categorical\n",
    "from imutils import paths\n",
    "import matplotlib.pyplot as plt\n",
    "import numpy as np\n",
    "import argparse\n",
    "import random\n",
    "import cv2\n",
    "import os\n",
    "import matplotlib.pyplot as plt\n",
    "import seaborn as sns; sns.set()\n",
    "import matplotlib"
   ]
  },
  {
   "cell_type": "code",
   "execution_count": 76,
   "metadata": {},
   "outputs": [],
   "source": [
    "model = load_model(\"model_adam1.h5\")"
   ]
  },
  {
   "cell_type": "code",
   "execution_count": 77,
   "metadata": {},
   "outputs": [],
   "source": [
    "def label_predict(img):\n",
    "    \n",
    "    test_image = image.load_img(img,target_size = (64, 64,1))\n",
    "    test_image = image.img_to_array(test_image)\n",
    "    test_image = np.expand_dims(test_image, axis = 0)\n",
    "\n",
    "    result = classifier.predict(test_image)\n",
    "    print(result)\n",
    "    if result[0][0] == 1:\n",
    "        label = \"0\"\n",
    "    elif result[0][1] == 1:\n",
    "        label = \"1\"\n",
    "    else: \n",
    "        label = \"2\"\n",
    "    return label"
   ]
  },
  {
   "cell_type": "code",
   "execution_count": 78,
   "metadata": {},
   "outputs": [
    {
     "name": "stdout",
     "output_type": "stream",
     "text": [
      "[[0. 1. 0.]]\n"
     ]
    },
    {
     "data": {
      "text/plain": [
       "'1'"
      ]
     },
     "execution_count": 78,
     "metadata": {},
     "output_type": "execute_result"
    }
   ],
   "source": [
    "label_predict('pred/h.png')"
   ]
  },
  {
   "cell_type": "code",
   "execution_count": 79,
   "metadata": {},
   "outputs": [
    {
     "data": {
      "text/plain": [
       "['disgust', 'happiness', 'surprise']"
      ]
     },
     "execution_count": 79,
     "metadata": {},
     "output_type": "execute_result"
    }
   ],
   "source": [
    "path=\"splited_data/test\"\n",
    "os.listdir(path)"
   ]
  },
  {
   "cell_type": "code",
   "execution_count": 80,
   "metadata": {},
   "outputs": [
    {
     "name": "stdout",
     "output_type": "stream",
     "text": [
      "[[1. 0. 0.]]\n",
      "[[1. 0. 0.]]\n",
      "[[1. 0. 0.]]\n",
      "[[0. 1. 0.]]\n",
      "[[1. 0. 0.]]\n",
      "[[1. 0. 0.]]\n",
      "[[0. 1. 0.]]\n",
      "[[1. 0. 0.]]\n",
      "[[1. 0. 0.]]\n",
      "[[1. 0. 0.]]\n",
      "[[1.0000000e+00 1.3979747e-10 0.0000000e+00]]\n",
      "[[0. 1. 0.]]\n",
      "[[1. 0. 0.]]\n",
      "[[0. 1. 0.]]\n",
      "[[0. 1. 0.]]\n",
      "[[0. 1. 0.]]\n",
      "[[0. 1. 0.]]\n",
      "[[0. 1. 0.]]\n",
      "[[0. 1. 0.]]\n",
      "[[0. 1. 0.]]\n",
      "[[0. 1. 0.]]\n",
      "[[0. 1. 0.]]\n",
      "[[0. 1. 0.]]\n",
      "[[0. 1. 0.]]\n",
      "[[0. 1. 0.]]\n",
      "[[0. 1. 0.]]\n",
      "[[0. 0. 1.]]\n",
      "[[0. 0. 1.]]\n",
      "[[0. 0. 1.]]\n",
      "[[0. 0. 1.]]\n",
      "[[0. 0. 1.]]\n",
      "[[0. 0. 1.]]\n",
      "[[0. 0. 1.]]\n",
      "[[0. 0. 1.]]\n",
      "[[0. 0. 1.]]\n",
      "[[0. 0. 1.]]\n",
      "[[0. 0. 1.]]\n",
      "[[0. 0. 1.]]\n",
      "[[0. 0. 1.]]\n"
     ]
    }
   ],
   "source": [
    "path=\"splited_data/test\"\n",
    "labels=[]\n",
    "pred_labels=[]\n",
    "\n",
    "imagePaths = os.path.join(path,\"disgust\")\n",
    "random.seed(42)\n",
    "for imagePath in os.listdir(imagePaths):\n",
    "    pred=label_predict(os.path.join(imagePaths,imagePath))\n",
    "    label = 0\n",
    "    labels.append(label)\n",
    "    pred_labels.append(pred)\n",
    "    \n",
    "imagePaths = os.path.join(path,\"happiness\")\n",
    "random.seed(42)\n",
    "for imagePath in os.listdir(imagePaths):\n",
    "    pred=label_predict(os.path.join(imagePaths,imagePath))\n",
    "    label = 1\n",
    "    labels.append(label)\n",
    "    pred_labels.append(pred)\n",
    "    \n",
    "imagePaths = os.path.join(path,\"surprise\")\n",
    "random.seed(42)\n",
    "for imagePath in os.listdir(imagePaths):\n",
    "    pred=label_predict(os.path.join(imagePaths,imagePath))\n",
    "    label = 2\n",
    "    labels.append(label)\n",
    "    pred_labels.append(pred)"
   ]
  },
  {
   "cell_type": "code",
   "execution_count": 81,
   "metadata": {
    "scrolled": true
   },
   "outputs": [
    {
     "data": {
      "text/plain": [
       "[0,\n",
       " 0,\n",
       " 0,\n",
       " 0,\n",
       " 0,\n",
       " 0,\n",
       " 0,\n",
       " 0,\n",
       " 0,\n",
       " 0,\n",
       " 0,\n",
       " 0,\n",
       " 0,\n",
       " 1,\n",
       " 1,\n",
       " 1,\n",
       " 1,\n",
       " 1,\n",
       " 1,\n",
       " 1,\n",
       " 1,\n",
       " 1,\n",
       " 1,\n",
       " 1,\n",
       " 1,\n",
       " 1,\n",
       " 2,\n",
       " 2,\n",
       " 2,\n",
       " 2,\n",
       " 2,\n",
       " 2,\n",
       " 2,\n",
       " 2,\n",
       " 2,\n",
       " 2,\n",
       " 2,\n",
       " 2,\n",
       " 2]"
      ]
     },
     "execution_count": 81,
     "metadata": {},
     "output_type": "execute_result"
    }
   ],
   "source": [
    "labels"
   ]
  },
  {
   "cell_type": "code",
   "execution_count": 82,
   "metadata": {
    "scrolled": true
   },
   "outputs": [
    {
     "data": {
      "text/plain": [
       "['0',\n",
       " '0',\n",
       " '0',\n",
       " '1',\n",
       " '0',\n",
       " '0',\n",
       " '1',\n",
       " '0',\n",
       " '0',\n",
       " '0',\n",
       " '0',\n",
       " '1',\n",
       " '0',\n",
       " '1',\n",
       " '1',\n",
       " '1',\n",
       " '1',\n",
       " '1',\n",
       " '1',\n",
       " '1',\n",
       " '1',\n",
       " '1',\n",
       " '1',\n",
       " '1',\n",
       " '1',\n",
       " '1',\n",
       " '2',\n",
       " '2',\n",
       " '2',\n",
       " '2',\n",
       " '2',\n",
       " '2',\n",
       " '2',\n",
       " '2',\n",
       " '2',\n",
       " '2',\n",
       " '2',\n",
       " '2',\n",
       " '2']"
      ]
     },
     "execution_count": 82,
     "metadata": {},
     "output_type": "execute_result"
    }
   ],
   "source": [
    "pred_labels"
   ]
  },
  {
   "cell_type": "code",
   "execution_count": 83,
   "metadata": {},
   "outputs": [],
   "source": [
    "pred_label=pred_labels\n",
    "predicted_label=[]"
   ]
  },
  {
   "cell_type": "code",
   "execution_count": 84,
   "metadata": {},
   "outputs": [],
   "source": [
    "for i in pred_label:\n",
    "    predicted_label.append(int(i))"
   ]
  },
  {
   "cell_type": "code",
   "execution_count": 85,
   "metadata": {},
   "outputs": [
    {
     "name": "stdout",
     "output_type": "stream",
     "text": [
      "Confusion Matrix:\n",
      "\n",
      "Predicted   0   1   2  __all__\n",
      "Actual                        \n",
      "0          10   3   0       13\n",
      "1           0  13   0       13\n",
      "2           0   0  13       13\n",
      "__all__    10  16  13       39\n",
      "\n",
      "\n",
      "Overall Statistics:\n",
      "\n",
      "Accuracy: 0.9230769230769231\n",
      "95% CI: (0.7912980787735568, 0.9838466996893416)\n",
      "No Information Rate: ToDo\n",
      "P-Value [Acc > NIR]: 2.3311772561744865e-11\n",
      "Kappa: 0.8846153846153847\n",
      "Mcnemar's Test P-Value: ToDo\n",
      "\n",
      "\n",
      "Class Statistics:\n",
      "\n",
      "Classes                                       0         1         2\n",
      "Population                                   39        39        39\n",
      "P: Condition positive                        13        13        13\n",
      "N: Condition negative                        26        26        26\n",
      "Test outcome positive                        10        16        13\n",
      "Test outcome negative                        29        23        26\n",
      "TP: True Positive                            10        13        13\n",
      "TN: True Negative                            26        23        26\n",
      "FP: False Positive                            0         3         0\n",
      "FN: False Negative                            3         0         0\n",
      "TPR: (Sensitivity, hit rate, recall)   0.769231         1         1\n",
      "TNR=SPC: (Specificity)                        1  0.884615         1\n",
      "PPV: Pos Pred Value (Precision)               1    0.8125         1\n",
      "NPV: Neg Pred Value                    0.896552         1         1\n",
      "FPR: False-out                                0  0.115385         0\n",
      "FDR: False Discovery Rate                     0    0.1875         0\n",
      "FNR: Miss Rate                         0.230769         0         0\n",
      "ACC: Accuracy                          0.923077  0.923077         1\n",
      "F1 score                               0.869565  0.896552         1\n",
      "MCC: Matthews correlation coefficient  0.830455  0.847791         1\n",
      "Informedness                           0.769231  0.884615         1\n",
      "Markedness                             0.896552    0.8125         1\n",
      "Prevalence                             0.333333  0.333333  0.333333\n",
      "LR+: Positive likelihood ratio              inf   8.66667       inf\n",
      "LR-: Negative likelihood ratio         0.230769         0         0\n",
      "DOR: Diagnostic odds ratio                  inf       inf       inf\n",
      "FOR: False omission rate               0.103448         0         0\n"
     ]
    }
   ],
   "source": [
    "import numpy as np\n",
    "from pandas_ml import ConfusionMatrix\n",
    "\n",
    "\n",
    "y_actu=np.array(labels)\n",
    "y_pred=np.array(predicted_label)\n",
    "cm = ConfusionMatrix(y_actu, y_pred)\n",
    "cm\n",
    "cm.print_stats()"
   ]
  },
  {
   "cell_type": "code",
   "execution_count": 86,
   "metadata": {},
   "outputs": [],
   "source": [
    "import pandas as pd\n",
    "y_actu_pd = pd.Series(y_actu, name='Actual')\n",
    "y_pred_pd = pd.Series(y_pred, name='Predicted')\n",
    "df_confusion = pd.crosstab(y_actu_pd, y_pred_pd)"
   ]
  },
  {
   "cell_type": "code",
   "execution_count": 87,
   "metadata": {},
   "outputs": [
    {
     "data": {
      "text/html": [
       "<div>\n",
       "<style scoped>\n",
       "    .dataframe tbody tr th:only-of-type {\n",
       "        vertical-align: middle;\n",
       "    }\n",
       "\n",
       "    .dataframe tbody tr th {\n",
       "        vertical-align: top;\n",
       "    }\n",
       "\n",
       "    .dataframe thead th {\n",
       "        text-align: right;\n",
       "    }\n",
       "</style>\n",
       "<table border=\"1\" class=\"dataframe\">\n",
       "  <thead>\n",
       "    <tr style=\"text-align: right;\">\n",
       "      <th>Predicted</th>\n",
       "      <th>0</th>\n",
       "      <th>1</th>\n",
       "      <th>2</th>\n",
       "    </tr>\n",
       "    <tr>\n",
       "      <th>Actual</th>\n",
       "      <th></th>\n",
       "      <th></th>\n",
       "      <th></th>\n",
       "    </tr>\n",
       "  </thead>\n",
       "  <tbody>\n",
       "    <tr>\n",
       "      <th>0</th>\n",
       "      <td>10</td>\n",
       "      <td>3</td>\n",
       "      <td>0</td>\n",
       "    </tr>\n",
       "    <tr>\n",
       "      <th>1</th>\n",
       "      <td>0</td>\n",
       "      <td>13</td>\n",
       "      <td>0</td>\n",
       "    </tr>\n",
       "    <tr>\n",
       "      <th>2</th>\n",
       "      <td>0</td>\n",
       "      <td>0</td>\n",
       "      <td>13</td>\n",
       "    </tr>\n",
       "  </tbody>\n",
       "</table>\n",
       "</div>"
      ],
      "text/plain": [
       "Predicted   0   1   2\n",
       "Actual               \n",
       "0          10   3   0\n",
       "1           0  13   0\n",
       "2           0   0  13"
      ]
     },
     "execution_count": 87,
     "metadata": {},
     "output_type": "execute_result"
    }
   ],
   "source": [
    "df_confusion = pd.crosstab(y_actu, y_pred, rownames=['Actual'], colnames=['Predicted'], margins=True)\n",
    "df_confusion = df_confusion.drop(\"All\", axis=1)\n",
    "df_confusion = df_confusion.drop(\"All\", axis=0)\n",
    "df_confusion"
   ]
  },
  {
   "cell_type": "code",
   "execution_count": 88,
   "metadata": {},
   "outputs": [
    {
     "data": {
      "text/html": [
       "<div>\n",
       "<style scoped>\n",
       "    .dataframe tbody tr th:only-of-type {\n",
       "        vertical-align: middle;\n",
       "    }\n",
       "\n",
       "    .dataframe tbody tr th {\n",
       "        vertical-align: top;\n",
       "    }\n",
       "\n",
       "    .dataframe thead th {\n",
       "        text-align: right;\n",
       "    }\n",
       "</style>\n",
       "<table border=\"1\" class=\"dataframe\">\n",
       "  <thead>\n",
       "    <tr style=\"text-align: right;\">\n",
       "      <th>Predicted</th>\n",
       "      <th>0</th>\n",
       "      <th>1</th>\n",
       "      <th>2</th>\n",
       "    </tr>\n",
       "    <tr>\n",
       "      <th>Actual</th>\n",
       "      <th></th>\n",
       "      <th></th>\n",
       "      <th></th>\n",
       "    </tr>\n",
       "  </thead>\n",
       "  <tbody>\n",
       "    <tr>\n",
       "      <th>0</th>\n",
       "      <td>0.769231</td>\n",
       "      <td>0.230769</td>\n",
       "      <td>0.0</td>\n",
       "    </tr>\n",
       "    <tr>\n",
       "      <th>1</th>\n",
       "      <td>0.000000</td>\n",
       "      <td>1.000000</td>\n",
       "      <td>0.0</td>\n",
       "    </tr>\n",
       "    <tr>\n",
       "      <th>2</th>\n",
       "      <td>0.000000</td>\n",
       "      <td>0.000000</td>\n",
       "      <td>1.0</td>\n",
       "    </tr>\n",
       "  </tbody>\n",
       "</table>\n",
       "</div>"
      ],
      "text/plain": [
       "Predicted         0         1    2\n",
       "Actual                            \n",
       "0          0.769231  0.230769  0.0\n",
       "1          0.000000  1.000000  0.0\n",
       "2          0.000000  0.000000  1.0"
      ]
     },
     "execution_count": 88,
     "metadata": {},
     "output_type": "execute_result"
    }
   ],
   "source": [
    "df_conf_norm = df_confusion / df_confusion.sum(axis=1)\n",
    "df_conf_norm"
   ]
  },
  {
   "cell_type": "code",
   "execution_count": 89,
   "metadata": {},
   "outputs": [],
   "source": [
    "def confusion_plot(data,title):\n",
    "    ax = plt.axes()\n",
    "    sns.heatmap(data, annot=True,ax=ax)\n",
    "    ax.set_title(title)\n",
    "    file_name=\"norm cm 1 final.pdf\"\n",
    "    print(file_name)\n",
    "    plt.savefig(file_name,bbox_inches='tight')\n",
    "    plt.show()"
   ]
  },
  {
   "cell_type": "code",
   "execution_count": 90,
   "metadata": {},
   "outputs": [
    {
     "name": "stdout",
     "output_type": "stream",
     "text": [
      "norm cm 1 final.pdf\n"
     ]
    },
    {
     "data": {
      "image/png": "[encoded data removed]",
      "text/plain": [
       "<Figure size 432x288 with 2 Axes>"
      ]
     },
     "metadata": {},
     "output_type": "display_data"
    }
   ],
   "source": [
    "n2=\"\";\n",
    "confusion_plot(df_conf_norm,n2)"
   ]
  },
  {
   "cell_type": "code",
   "execution_count": 91,
   "metadata": {},
   "outputs": [
    {
     "data": {
      "text/plain": [
       "array([[10,  3,  0],\n",
       "       [ 0, 13,  0],\n",
       "       [ 0,  0, 13]], dtype=int64)"
      ]
     },
     "execution_count": 91,
     "metadata": {},
     "output_type": "execute_result"
    }
   ],
   "source": [
    "from sklearn.metrics import classification_report, confusion_matrix\n",
    "%matplotlib inline\n",
    "from sklearn.metrics import confusion_matrix\n",
    "import itertools\n",
    "import matplotlib.pyplot as plt\n",
    "\n",
    "cm = confusion_matrix(y_actu_pd, y_pred_pd)\n",
    "cm"
   ]
  },
  {
   "cell_type": "code",
   "execution_count": 92,
   "metadata": {},
   "outputs": [],
   "source": [
    "def plot_confusion_matrix(cm,classes, \n",
    "                          normalize = False,\n",
    "                          title = 'Confusion Matrix',\n",
    "                          cmap = plt.cm.Blues):\n",
    "    plt.imshow(cm,interpolation = 'nearest', cmap = cmap)\n",
    "    plt.title(title)\n",
    "    plt.colorbar()\n",
    "    tick_marks = np.arange(len(classes))\n",
    "    plt.xticks(tick_marks,  classes, rotation = 45)\n",
    "    plt.yticks(tick_marks,  classes)\n",
    "    \n",
    "    if normalize:\n",
    "        cm = c.astype('float')/cm.sum(axis=1)[:,np.newaxis]\n",
    "        print('ncm')\n",
    "    else:\n",
    "        print('cm')\n",
    "    \n",
    "    print(cm)\n",
    "    \n",
    "    thresh = cm.max()/2.\n",
    "    for i,j in itertools.product(range(cm.shape[0]),range(cm.shape[1])):\n",
    "        plt.text(j,i,cm[i,j], horizontalalignment = \"center\",\n",
    "        color = \"white\" if cm[i,j] > thresh else \"black\")\n",
    "    \n",
    "    plt.tight_layout()\n",
    "    plt.ylabel('Actual')\n",
    "    plt.xlabel('Predicted')"
   ]
  },
  {
   "cell_type": "code",
   "execution_count": 93,
   "metadata": {},
   "outputs": [
    {
     "name": "stdout",
     "output_type": "stream",
     "text": [
      "cm\n",
      "[[10  3  0]\n",
      " [ 0 13  0]\n",
      " [ 0  0 13]]\n"
     ]
    },
    {
     "data": {
      "image/png": "[encoded data removed]",
      "text/plain": [
       "<Figure size 432x288 with 2 Axes>"
      ]
     },
     "metadata": {
      "needs_background": "light"
     },
     "output_type": "display_data"
    }
   ],
   "source": [
    "cm_plot_labels = ['digust', 'happiness', 'surprise']\n",
    "plot_confusion_matrix(cm,cm_plot_labels,title = 'Confusion Matrix - Test')"
   ]
  },
  {
   "cell_type": "code",
   "execution_count": 105,
   "metadata": {},
   "outputs": [],
   "source": [
    "import matplotlib.pyplot as plt"
   ]
  },
  {
   "cell_type": "code",
   "execution_count": 106,
   "metadata": {},
   "outputs": [
    {
     "data": {
      "image/png": "[encoded data removed]",
      "text/plain": [
       "<Figure size 432x288 with 1 Axes>"
      ]
     },
     "metadata": {
      "needs_background": "light"
     },
     "output_type": "display_data"
    }
   ],
   "source": [
    "plt.plot(history_adam.history['acc'])\n",
    "plt.plot(history_adam.history['val_acc'])\n",
    "plt.title('Model Acccuracy')\n",
    "plt.ylabel('acc')\n",
    "plt.xlabel('epochs')\n",
    "plt.legend(['train model2', 'val model2'], loc='lower right')\n",
    "plt.show()"
   ]
  },
  {
   "cell_type": "code",
   "execution_count": 107,
   "metadata": {},
   "outputs": [
    {
     "data": {
      "image/png": "[encoded data removed]",
      "text/plain": [
       "<Figure size 432x288 with 1 Axes>"
      ]
     },
     "metadata": {
      "needs_background": "light"
     },
     "output_type": "display_data"
    }
   ],
   "source": [
    "plt.plot(history_adam.history['loss'])\n",
    "plt.plot(history_adam.history['val_loss'])\n",
    "plt.title('Model Loss')\n",
    "plt.ylabel('loss')\n",
    "plt.xlabel('epochs')\n",
    "plt.legend(['train model2', 'val model2'], loc='upper right')\n",
    "plt.show()"
   ]
  },
  {
   "cell_type": "code",
   "execution_count": null,
   "metadata": {},
   "outputs": [],
   "source": []
  }
 ],
 "metadata": {
  "kernelspec": {
   "display_name": "Python 3",
   "language": "python",
   "name": "python3"
  },
  "language_info": {
   "codemirror_mode": {
    "name": "ipython",
    "version": 3
   },
   "file_extension": ".py",
   "mimetype": "text/x-python",
   "name": "python",
   "nbconvert_exporter": "python",
   "pygments_lexer": "ipython3",
   "version": "3.7.3"
  }
 },
 "nbformat": 4,
 "nbformat_minor": 2
}
